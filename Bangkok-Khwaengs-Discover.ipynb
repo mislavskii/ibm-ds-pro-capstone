{
 "cells": [
  {
   "cell_type": "markdown",
   "metadata": {},
   "source": [
    "# Stage 1. Discovering Bangkok Neighbourhoods"
   ]
  },
  {
   "cell_type": "code",
   "execution_count": 1,
   "metadata": {},
   "outputs": [
    {
     "name": "stdout",
     "output_type": "stream",
     "text": [
      "\n",
      " >>> Libraries imported.\n"
     ]
    }
   ],
   "source": [
    "import requests\n",
    "import numpy as np # library to handle data in a vectorized manner\n",
    "import os\n",
    "\n",
    "import pandas as pd # library for data analsysis\n",
    "pd.set_option('display.max_columns', None)\n",
    "pd.set_option('display.max_rows', None)\n",
    "\n",
    "# Installing BeautifulSoup4 (if not installed yet - uncommend the line below)\n",
    "#!pip install BeautifulSoup4\n",
    "from bs4 import BeautifulSoup\n",
    "from datetime import datetime as dt\n",
    "import json # library to handle JSON files\n",
    "import sqlite3\n",
    "\n",
    "print('\\n','>>> Libraries imported.')"
   ]
  },
  {
   "cell_type": "markdown",
   "metadata": {},
   "source": [
    "## 1. Getting the list of all Bangkok neighbourhoods (khwaengs)"
   ]
  },
  {
   "cell_type": "markdown",
   "metadata": {},
   "source": [
    "From Wikipedia page <a href=\"https://en.wikipedia.org/wiki/Khwaeng\">\"Khwaeng\"</a>"
   ]
  },
  {
   "cell_type": "markdown",
   "metadata": {},
   "source": [
    "Downloading the page from the Web:"
   ]
  },
  {
   "cell_type": "code",
   "execution_count": 2,
   "metadata": {
    "scrolled": true
   },
   "outputs": [
    {
     "name": "stdout",
     "output_type": "stream",
     "text": [
      "200\n"
     ]
    }
   ],
   "source": [
    "link = 'https://en.wikipedia.org/wiki/Khwaeng'\n",
    "page = requests.get(link)\n",
    "print(page.status_code)"
   ]
  },
  {
   "cell_type": "markdown",
   "metadata": {},
   "source": [
    "Cooking BeautifulSoup from the retireved page :"
   ]
  },
  {
   "cell_type": "code",
   "execution_count": 3,
   "metadata": {},
   "outputs": [],
   "source": [
    "soup = BeautifulSoup(page.text, 'html.parser')"
   ]
  },
  {
   "cell_type": "markdown",
   "metadata": {},
   "source": [
    "The data of interest are in a table, so get tables from the soup:"
   ]
  },
  {
   "cell_type": "code",
   "execution_count": 4,
   "metadata": {},
   "outputs": [
    {
     "data": {
      "text/plain": [
       "2"
      ]
     },
     "execution_count": 4,
     "metadata": {},
     "output_type": "execute_result"
    }
   ],
   "source": [
    "tables = soup('table')\n",
    "len(tables)"
   ]
  },
  {
   "cell_type": "markdown",
   "metadata": {},
   "source": [
    "There are two tables on the page. The khwaengs are listed in the first one:"
   ]
  },
  {
   "cell_type": "code",
   "execution_count": 5,
   "metadata": {
    "scrolled": true,
    "tags": []
   },
   "outputs": [
    {
     "name": "stdout",
     "output_type": "stream",
     "text": [
      "<tr>\n",
      "<th colspan=\"3\">District (<i>khet</i>)\n",
      "</th>\n",
      "<th colspan=\"3\">Subdistrict (<i>khwaeng</i>)\n",
      "</th>\n",
      "<th rowspan=\"2\">Notes\n",
      "</th></tr>\n",
      "\n",
      "District (khet)\n",
      "\n",
      "Subdistrict (khwaeng)\n",
      "\n",
      "Notes\n",
      "\n",
      "\n",
      "<tr>\n",
      "<th>Code\n",
      "</th>\n",
      "<th>Name\n",
      "</th>\n",
      "<th>Name (Thai)\n",
      "</th>\n",
      "<th>Code\n",
      "</th>\n",
      "<th>Name\n",
      "</th>\n",
      "<th>Name (Thai)\n",
      "</th></tr>\n",
      "\n",
      "Code\n",
      "\n",
      "Name\n",
      "\n",
      "Name (Thai)\n",
      "\n",
      "Code\n",
      "\n",
      "Name\n",
      "\n",
      "Name (Thai)\n",
      "\n",
      "\n",
      "<tr>\n",
      "<td rowspan=\"12\" valign=\"top\">01\n",
      "</td>\n",
      "<td rowspan=\"12\" valign=\"top\"><a href=\"/wiki/Phra_Nakhon_district\" title=\"Phra Nakhon district\">Phra Nakhon</a>\n",
      "</td>\n",
      "<td rowspan=\"12\" valign=\"top\">พระนคร\n",
      "</td>\n",
      "<td>01\n",
      "</td>\n",
      "<td><a href=\"/wiki/Phra_Borom_Maha_Ratchawang_subdistrict\" title=\"Phra Borom Maha Ratchawang subdistrict\">Phra Borom Maha Ratchawang</a>\n",
      "</td>\n",
      "<td>พระบรมมหาราชวัง\n",
      "</td>\n",
      "<td>\n",
      "</td></tr>\n",
      "\n",
      "01\n",
      "\n",
      "Phra Nakhon\n",
      "\n",
      "พระนคร\n",
      "\n",
      "01\n",
      "\n",
      "Phra Borom Maha Ratchawang\n",
      "\n",
      "พระบรมมหาราชวัง\n",
      "\n",
      "\n",
      "\n",
      "\n",
      "<tr>\n",
      "<td>02\n",
      "</td>\n",
      "<td><a href=\"/wiki/Wang_Burapha_Phirom_subdistrict\" title=\"Wang Burapha Phirom subdistrict\">Wang Burapha Phirom</a>\n",
      "</td>\n",
      "<td>วังบูรพาภิรมย์\n",
      "</td>\n",
      "<td>\n",
      "</td></tr>\n",
      "\n",
      "02\n",
      "\n",
      "Wang Burapha Phirom\n",
      "\n",
      "วังบูรพาภิรมย์\n",
      "\n",
      "\n",
      "\n",
      "\n",
      "<tr>\n",
      "<td>03\n",
      "</td>\n",
      "<td><a href=\"/wiki/Wat_Ratchabophit_subdistrict\" title=\"Wat Ratchabophit subdistrict\">Wat Ratchabophit</a>\n",
      "</td>\n",
      "<td>วัดราชบพิธ\n",
      "</td>\n",
      "<td>\n",
      "</td></tr>\n",
      "\n",
      "03\n",
      "\n",
      "Wat Ratchabophit\n",
      "\n",
      "วัดราชบพิธ\n",
      "\n",
      "\n",
      "\n",
      "\n",
      "<tr>\n",
      "<td>04\n",
      "</td>\n",
      "<td><a href=\"/wiki/Samran_Rat\" title=\"Samran Rat\">Samran Rat</a>\n",
      "</td>\n",
      "<td>สำราญราษฎร์\n",
      "</td>\n",
      "<td>\n",
      "</td></tr>\n",
      "\n",
      "04\n",
      "\n",
      "Samran Rat\n",
      "\n",
      "สำราญราษฎร์\n",
      "\n",
      "\n",
      "\n",
      "\n",
      "<tr>\n",
      "<td>05\n",
      "</td>\n",
      "<td><a href=\"/wiki/San_Chaopho_Suea_subdistrict\" title=\"San Chaopho Suea subdistrict\">San Chaopho Suea</a>\n",
      "</td>\n",
      "<td>ศาลเจ้าพ่อเสือ\n",
      "</td>\n",
      "<td>\n",
      "</td></tr>\n",
      "\n",
      "05\n",
      "\n",
      "San Chaopho Suea\n",
      "\n",
      "ศาลเจ้าพ่อเสือ\n",
      "\n",
      "\n",
      "\n",
      "\n",
      "<tr>\n",
      "<td>06\n",
      "</td>\n",
      "<td><a href=\"/wiki/Sao_Chingcha_subdistrict\" title=\"Sao Chingcha subdistrict\">Sao Chingcha</a>\n",
      "</td>\n",
      "<td>เสาชิงช้า\n",
      "</td>\n",
      "<td>Seat of <a href=\"/wiki/Bangkok_Metropolitan_Administration\" title=\"Bangkok Metropolitan Administration\">BMA</a> office\n",
      "</td></tr>\n",
      "\n",
      "06\n",
      "\n",
      "Sao Chingcha\n",
      "\n",
      "เสาชิงช้า\n",
      "\n",
      "Seat of BMA office\n",
      "\n",
      "\n",
      "<tr>\n",
      "<td>07\n",
      "</td>\n",
      "<td><a href=\"/wiki/Bowon_Niwet_subdistrict\" title=\"Bowon Niwet subdistrict\">Bowon Niwet</a>\n",
      "</td>\n",
      "<td>บวรนิเวศ\n",
      "</td>\n",
      "<td>\n",
      "</td></tr>\n",
      "\n",
      "07\n",
      "\n",
      "Bowon Niwet\n",
      "\n",
      "บวรนิเวศ\n",
      "\n",
      "\n",
      "\n",
      "\n"
     ]
    }
   ],
   "source": [
    "khwaengs_table = tables[0]\n",
    "\n",
    "row_tags = khwaengs_table('tr')\n",
    "for tag in row_tags[:9]:\n",
    "    print(tag)\n",
    "    print(tag.text, end = \"\\n\"*2)"
   ]
  },
  {
   "cell_type": "markdown",
   "metadata": {},
   "source": [
    "There are total of 6 columns, and the first two rows are header.\n",
    "\n",
    "Parse the Khwaengs table into a list of rows:"
   ]
  },
  {
   "cell_type": "code",
   "execution_count": 6,
   "metadata": {},
   "outputs": [
    {
     "name": "stdout",
     "output_type": "stream",
     "text": [
      "Top 9 rows:\n",
      "['District (khet)', 'Subdistrict (khwaeng)', 'Notes']\n",
      "['Code', 'Name', 'Name (Thai)', 'Code', 'Name', 'Name (Thai)']\n",
      "['01', 'Phra Nakhon', 'พระนคร', '01', 'Phra Borom Maha Ratchawang', 'พระบรมมหาราชวัง']\n",
      "['02', 'Wang Burapha Phirom', 'วังบูรพาภิรมย์']\n",
      "['03', 'Wat Ratchabophit', 'วัดราชบพิธ']\n",
      "['04', 'Samran Rat', 'สำราญราษฎร์']\n",
      "['05', 'San Chaopho Suea', 'ศาลเจ้าพ่อเสือ']\n",
      "['06', 'Sao Chingcha', 'เสาชิงช้า', 'Seat of BMA office']\n",
      "['07', 'Bowon Niwet', 'บวรนิเวศ']\n",
      "Bottom 9 rows:\n",
      "['03', 'Bang Na Tai', 'บางนาใต้']\n",
      "['48', 'Thawi Watthana', 'ทวีวัฒนา', '01', 'Thawi Watthana', 'ทวีวัฒนา', 'District seat']\n",
      "['02', 'Sala Thammasop', 'ศาลาธรรมสพน์']\n",
      "['49', 'Thung Khru', 'ทุ่งครุ', '01', 'Bang Mot', 'บางมด']\n",
      "['02', 'Thung Khru', 'ทุ่งครุ', 'District seat']\n",
      "['50', 'Bang Bon', 'บางบอน', '02', 'Bang Bon Nuea', 'บางบอนเหนือ']\n",
      "['03', 'Bang Bon Tai', 'บางบอนใต้', 'District seat']\n",
      "['04', 'Khlong Bang Phran', 'คลองบางพราน']\n",
      "['05', 'Khlong Bang Bon', 'คลองบางบอน']\n",
      "\n",
      "Total rows including the headers: 182\n"
     ]
    }
   ],
   "source": [
    "rows = list()\n",
    "for tag in row_tags:\n",
    "    row = tag.text.strip('\\n').split('\\n\\n')\n",
    "    rows.append(row)\n",
    "\n",
    "print('Top 9 rows:')\n",
    "for row in rows[0:9] :\n",
    "    print(row)\n",
    "print('Bottom 9 rows:')\n",
    "for row in rows[-9:] :\n",
    "    print(row)\n",
    "print()\n",
    "print('Total rows including the headers:', len(rows))"
   ]
  },
  {
   "cell_type": "markdown",
   "metadata": {},
   "source": [
    "Making all rows uniform by adding district data to rows which only contain neighbourhjood data as a result of the complex table layout, while excluding the header:"
   ]
  },
  {
   "cell_type": "markdown",
   "metadata": {},
   "source": [
    "## 2. Persisting the data into SQLite database."
   ]
  },
  {
   "cell_type": "markdown",
   "metadata": {},
   "source": [
    "- Setting up the database:"
   ]
  },
  {
   "cell_type": "code",
   "execution_count": 7,
   "metadata": {},
   "outputs": [],
   "source": [
    "connection = sqlite3.connect('db/bkk_khwaengs.sqlite')\n",
    "cursor = connection.cursor()"
   ]
  },
  {
   "cell_type": "code",
   "execution_count": 10,
   "metadata": {},
   "outputs": [],
   "source": [
    "# cursor.execute('DROP TABLE IF EXISTS Khet')\n",
    "cursor.execute('''CREATE TABLE IF NOT EXISTS Khet (\n",
    "    idKhet INTEGER NOT NULL UNIQUE PRIMARY KEY AUTOINCREMENT,\n",
    "    KhetCode CHAR(2) NOT NULL UNIQUE, \n",
    "    KhetEng VARCHAR(64) NOT NULL UNIQUE,\n",
    "    KhetThai VARCHAR(64) NOT NULL UNIQUE\n",
    "    )'''\n",
    ")\n",
    "\n",
    "# cursor.execute('DROP TABLE IF EXISTS Khwaeng')\n",
    "cursor.execute('''CREATE TABLE IF NOT EXISTS Khwaeng (\n",
    "    idKhwaeng INTEGER NOT NULL UNIQUE PRIMARY KEY AUTOINCREMENT, \n",
    "    KhwaengCode CHAR(2) NOT NULL,\n",
    "    KhwaengEng VARCHAR(64) NOT NULL,\n",
    "    KhwaengThai VARCHAR(64) NOT NULL,\n",
    "    Latitude FLOAT,\n",
    "    Longitude FLOAT,\n",
    "    idKhet INTEGER, \n",
    "    FOREIGN KEY (idKhet) REFERENCES Khet (idKhet) ON DELETE CASCADE ON UPDATE CASCADE\n",
    "    )'''\n",
    ")\n",
    "\n",
    "connection.commit()"
   ]
  },
  {
   "cell_type": "markdown",
   "metadata": {},
   "source": [
    "- Populating the Database with data row by row"
   ]
  },
  {
   "cell_type": "code",
   "execution_count": 11,
   "metadata": {
    "tags": []
   },
   "outputs": [],
   "source": [
    "for row in rows[2:]:  # skip the header\n",
    "    if len(row) >= len(rows[2]) :  # the first complete row as a reference\n",
    "        cursor.execute('INSERT INTO Khet (KhetCode, KhetEng, KhetThai) VALUES(?, ?, ?)',\n",
    "                          tuple(row[:3]))  # leading cells of a complete row go into Khet table\n",
    "        idKhet = cursor.lastrowid  # to be used as foreign key in Khwaeng table\n",
    "        cursor.execute('INSERT INTO Khwaeng (KhwaengCode, KhwaengEng, KhwaengThai, idKhet) VALUES(?, ?, ?, ?)',\n",
    "                  (row[3], row[4], row[5], idKhet))\n",
    "    else:\n",
    "        cursor.execute('INSERT INTO Khwaeng (KhwaengCode, KhwaengEng, KhwaengThai, idKhet) VALUES(?, ?, ?, ?)',\n",
    "                  (row[0], row[1], row[2], idKhet))\n",
    "\n",
    "connection.commit()"
   ]
  },
  {
   "cell_type": "markdown",
   "metadata": {},
   "source": [
    "- Checking the result"
   ]
  },
  {
   "cell_type": "code",
   "execution_count": 16,
   "metadata": {},
   "outputs": [],
   "source": [
    "sql = '''SELECT Khet.KhetCode, Khet.KhetEng, Khet.KhetThai, Khwaeng.KhwaengCode, Khwaeng.KhwaengEng, Khwaeng.KhwaengThai\n",
    "            FROM Khet JOIN Khwaeng on Khwaeng.idKhet = Khet.idKhet'''"
   ]
  },
  {
   "cell_type": "code",
   "execution_count": 20,
   "metadata": {},
   "outputs": [],
   "source": [
    "select = cursor.execute(sql)"
   ]
  },
  {
   "cell_type": "code",
   "execution_count": 21,
   "metadata": {
    "tags": []
   },
   "outputs": [
    {
     "data": {
      "text/plain": [
       "[('01',\n",
       "  'Phra Nakhon',\n",
       "  'พระนคร',\n",
       "  '01',\n",
       "  'Phra Borom Maha Ratchawang',\n",
       "  'พระบรมมหาราชวัง'),\n",
       " ('01',\n",
       "  'Phra Nakhon',\n",
       "  'พระนคร',\n",
       "  '02',\n",
       "  'Wang Burapha Phirom',\n",
       "  'วังบูรพาภิรมย์'),\n",
       " ('01', 'Phra Nakhon', 'พระนคร', '03', 'Wat Ratchabophit', 'วัดราชบพิธ'),\n",
       " ('01', 'Phra Nakhon', 'พระนคร', '04', 'Samran Rat', 'สำราญราษฎร์'),\n",
       " ('01', 'Phra Nakhon', 'พระนคร', '05', 'San Chaopho Suea', 'ศาลเจ้าพ่อเสือ'),\n",
       " ('01', 'Phra Nakhon', 'พระนคร', '06', 'Sao Chingcha', 'เสาชิงช้า'),\n",
       " ('01', 'Phra Nakhon', 'พระนคร', '07', 'Bowon Niwet', 'บวรนิเวศ'),\n",
       " ('01', 'Phra Nakhon', 'พระนคร', '08', 'Talat Yot', 'ตลาดยอด'),\n",
       " ('01', 'Phra Nakhon', 'พระนคร', '09', 'Chana Songkhram', 'ชนะสงคราม'),\n",
       " ('01', 'Phra Nakhon', 'พระนคร', '10', 'Ban Phan Thom', 'บ้านพานถม'),\n",
       " ('01', 'Phra Nakhon', 'พระนคร', '11', 'Bang Khun Phrom', 'บางขุนพรหม')]"
      ]
     },
     "execution_count": 21,
     "metadata": {},
     "output_type": "execute_result"
    }
   ],
   "source": [
    "data = select.fetchall()\n",
    "data[:11]"
   ]
  },
  {
   "cell_type": "code",
   "execution_count": 14,
   "metadata": {},
   "outputs": [
    {
     "data": {
      "text/plain": [
       "[('46',\n",
       "  'Khlong Sam Wa',\n",
       "  'คลองสามวา',\n",
       "  '05',\n",
       "  'Sai Kong Din Tai',\n",
       "  'ทรายกองดินใต้'),\n",
       " ('47', 'Bang Na', 'บางนา', '02', 'Bang Na Nuea', 'บางนาเหนือ'),\n",
       " ('47', 'Bang Na', 'บางนา', '03', 'Bang Na Tai', 'บางนาใต้'),\n",
       " ('48', 'Thawi Watthana', 'ทวีวัฒนา', '01', 'Thawi Watthana', 'ทวีวัฒนา'),\n",
       " ('48', 'Thawi Watthana', 'ทวีวัฒนา', '02', 'Sala Thammasop', 'ศาลาธรรมสพน์'),\n",
       " ('49', 'Thung Khru', 'ทุ่งครุ', '01', 'Bang Mot', 'บางมด'),\n",
       " ('49', 'Thung Khru', 'ทุ่งครุ', '02', 'Thung Khru', 'ทุ่งครุ'),\n",
       " ('50', 'Bang Bon', 'บางบอน', '02', 'Bang Bon Nuea', 'บางบอนเหนือ'),\n",
       " ('50', 'Bang Bon', 'บางบอน', '03', 'Bang Bon Tai', 'บางบอนใต้'),\n",
       " ('50', 'Bang Bon', 'บางบอน', '04', 'Khlong Bang Phran', 'คลองบางพราน'),\n",
       " ('50', 'Bang Bon', 'บางบอน', '05', 'Khlong Bang Bon', 'คลองบางบอน')]"
      ]
     },
     "execution_count": 14,
     "metadata": {},
     "output_type": "execute_result"
    }
   ],
   "source": [
    "data[-11:]"
   ]
  },
  {
   "cell_type": "code",
   "execution_count": 15,
   "metadata": {},
   "outputs": [
    {
     "data": {
      "text/plain": [
       "180"
      ]
     },
     "execution_count": 15,
     "metadata": {},
     "output_type": "execute_result"
    }
   ],
   "source": [
    "len(data)"
   ]
  },
  {
   "cell_type": "markdown",
   "metadata": {},
   "source": [
    "## 3. Pulling the data into Pandas DataFrame"
   ]
  },
  {
   "cell_type": "code",
   "execution_count": 23,
   "metadata": {
    "tags": []
   },
   "outputs": [
    {
     "data": {
      "text/html": [
       "<div>\n",
       "<style scoped>\n",
       "    .dataframe tbody tr th:only-of-type {\n",
       "        vertical-align: middle;\n",
       "    }\n",
       "\n",
       "    .dataframe tbody tr th {\n",
       "        vertical-align: top;\n",
       "    }\n",
       "\n",
       "    .dataframe thead th {\n",
       "        text-align: right;\n",
       "    }\n",
       "</style>\n",
       "<table border=\"1\" class=\"dataframe\">\n",
       "  <thead>\n",
       "    <tr style=\"text-align: right;\">\n",
       "      <th></th>\n",
       "      <th>KhetCode</th>\n",
       "      <th>KhetEng</th>\n",
       "      <th>KhetThai</th>\n",
       "      <th>KhwaengCode</th>\n",
       "      <th>KhwaengEng</th>\n",
       "      <th>KhwaengThai</th>\n",
       "    </tr>\n",
       "  </thead>\n",
       "  <tbody>\n",
       "    <tr>\n",
       "      <th>0</th>\n",
       "      <td>01</td>\n",
       "      <td>Phra Nakhon</td>\n",
       "      <td>พระนคร</td>\n",
       "      <td>01</td>\n",
       "      <td>Phra Borom Maha Ratchawang</td>\n",
       "      <td>พระบรมมหาราชวัง</td>\n",
       "    </tr>\n",
       "    <tr>\n",
       "      <th>1</th>\n",
       "      <td>01</td>\n",
       "      <td>Phra Nakhon</td>\n",
       "      <td>พระนคร</td>\n",
       "      <td>02</td>\n",
       "      <td>Wang Burapha Phirom</td>\n",
       "      <td>วังบูรพาภิรมย์</td>\n",
       "    </tr>\n",
       "    <tr>\n",
       "      <th>2</th>\n",
       "      <td>01</td>\n",
       "      <td>Phra Nakhon</td>\n",
       "      <td>พระนคร</td>\n",
       "      <td>03</td>\n",
       "      <td>Wat Ratchabophit</td>\n",
       "      <td>วัดราชบพิธ</td>\n",
       "    </tr>\n",
       "    <tr>\n",
       "      <th>3</th>\n",
       "      <td>01</td>\n",
       "      <td>Phra Nakhon</td>\n",
       "      <td>พระนคร</td>\n",
       "      <td>04</td>\n",
       "      <td>Samran Rat</td>\n",
       "      <td>สำราญราษฎร์</td>\n",
       "    </tr>\n",
       "    <tr>\n",
       "      <th>4</th>\n",
       "      <td>01</td>\n",
       "      <td>Phra Nakhon</td>\n",
       "      <td>พระนคร</td>\n",
       "      <td>05</td>\n",
       "      <td>San Chaopho Suea</td>\n",
       "      <td>ศาลเจ้าพ่อเสือ</td>\n",
       "    </tr>\n",
       "    <tr>\n",
       "      <th>5</th>\n",
       "      <td>01</td>\n",
       "      <td>Phra Nakhon</td>\n",
       "      <td>พระนคร</td>\n",
       "      <td>06</td>\n",
       "      <td>Sao Chingcha</td>\n",
       "      <td>เสาชิงช้า</td>\n",
       "    </tr>\n",
       "    <tr>\n",
       "      <th>6</th>\n",
       "      <td>01</td>\n",
       "      <td>Phra Nakhon</td>\n",
       "      <td>พระนคร</td>\n",
       "      <td>07</td>\n",
       "      <td>Bowon Niwet</td>\n",
       "      <td>บวรนิเวศ</td>\n",
       "    </tr>\n",
       "    <tr>\n",
       "      <th>7</th>\n",
       "      <td>01</td>\n",
       "      <td>Phra Nakhon</td>\n",
       "      <td>พระนคร</td>\n",
       "      <td>08</td>\n",
       "      <td>Talat Yot</td>\n",
       "      <td>ตลาดยอด</td>\n",
       "    </tr>\n",
       "    <tr>\n",
       "      <th>8</th>\n",
       "      <td>01</td>\n",
       "      <td>Phra Nakhon</td>\n",
       "      <td>พระนคร</td>\n",
       "      <td>09</td>\n",
       "      <td>Chana Songkhram</td>\n",
       "      <td>ชนะสงคราม</td>\n",
       "    </tr>\n",
       "    <tr>\n",
       "      <th>9</th>\n",
       "      <td>01</td>\n",
       "      <td>Phra Nakhon</td>\n",
       "      <td>พระนคร</td>\n",
       "      <td>10</td>\n",
       "      <td>Ban Phan Thom</td>\n",
       "      <td>บ้านพานถม</td>\n",
       "    </tr>\n",
       "    <tr>\n",
       "      <th>10</th>\n",
       "      <td>01</td>\n",
       "      <td>Phra Nakhon</td>\n",
       "      <td>พระนคร</td>\n",
       "      <td>11</td>\n",
       "      <td>Bang Khun Phrom</td>\n",
       "      <td>บางขุนพรหม</td>\n",
       "    </tr>\n",
       "    <tr>\n",
       "      <th>11</th>\n",
       "      <td>01</td>\n",
       "      <td>Phra Nakhon</td>\n",
       "      <td>พระนคร</td>\n",
       "      <td>12</td>\n",
       "      <td>Wat Sam Phraya</td>\n",
       "      <td>วัดสามพระยา</td>\n",
       "    </tr>\n",
       "    <tr>\n",
       "      <th>12</th>\n",
       "      <td>02</td>\n",
       "      <td>Dusit</td>\n",
       "      <td>ดุสิต</td>\n",
       "      <td>01</td>\n",
       "      <td>Dusit</td>\n",
       "      <td>ดุสิต</td>\n",
       "    </tr>\n",
       "    <tr>\n",
       "      <th>13</th>\n",
       "      <td>02</td>\n",
       "      <td>Dusit</td>\n",
       "      <td>ดุสิต</td>\n",
       "      <td>02</td>\n",
       "      <td>Wachiraphayaban</td>\n",
       "      <td>วชิรพยาบาล</td>\n",
       "    </tr>\n",
       "    <tr>\n",
       "      <th>14</th>\n",
       "      <td>02</td>\n",
       "      <td>Dusit</td>\n",
       "      <td>ดุสิต</td>\n",
       "      <td>03</td>\n",
       "      <td>Suan Chitlada</td>\n",
       "      <td>สวนจิตรลดา</td>\n",
       "    </tr>\n",
       "    <tr>\n",
       "      <th>15</th>\n",
       "      <td>02</td>\n",
       "      <td>Dusit</td>\n",
       "      <td>ดุสิต</td>\n",
       "      <td>04</td>\n",
       "      <td>Si Yaek Maha Nak</td>\n",
       "      <td>สี่แยกมหานาค</td>\n",
       "    </tr>\n",
       "    <tr>\n",
       "      <th>16</th>\n",
       "      <td>02</td>\n",
       "      <td>Dusit</td>\n",
       "      <td>ดุสิต</td>\n",
       "      <td>06</td>\n",
       "      <td>Thanon Nakhon Chai Si</td>\n",
       "      <td>ถนนนครไชยศรี</td>\n",
       "    </tr>\n",
       "    <tr>\n",
       "      <th>17</th>\n",
       "      <td>03</td>\n",
       "      <td>Nong Chok</td>\n",
       "      <td>หนองจอก</td>\n",
       "      <td>01</td>\n",
       "      <td>Krathum Rai</td>\n",
       "      <td>กระทุ่มราย</td>\n",
       "    </tr>\n",
       "    <tr>\n",
       "      <th>18</th>\n",
       "      <td>03</td>\n",
       "      <td>Nong Chok</td>\n",
       "      <td>หนองจอก</td>\n",
       "      <td>02</td>\n",
       "      <td>Nong Chok</td>\n",
       "      <td>หนองจอก</td>\n",
       "    </tr>\n",
       "    <tr>\n",
       "      <th>19</th>\n",
       "      <td>03</td>\n",
       "      <td>Nong Chok</td>\n",
       "      <td>หนองจอก</td>\n",
       "      <td>03</td>\n",
       "      <td>Khlong Sip</td>\n",
       "      <td>คลองสิบ</td>\n",
       "    </tr>\n",
       "    <tr>\n",
       "      <th>20</th>\n",
       "      <td>03</td>\n",
       "      <td>Nong Chok</td>\n",
       "      <td>หนองจอก</td>\n",
       "      <td>04</td>\n",
       "      <td>Khlong Sip Song</td>\n",
       "      <td>คลองสิบสอง</td>\n",
       "    </tr>\n",
       "    <tr>\n",
       "      <th>21</th>\n",
       "      <td>03</td>\n",
       "      <td>Nong Chok</td>\n",
       "      <td>หนองจอก</td>\n",
       "      <td>05</td>\n",
       "      <td>Khok Faet</td>\n",
       "      <td>โคกแฝด</td>\n",
       "    </tr>\n",
       "  </tbody>\n",
       "</table>\n",
       "</div>"
      ],
      "text/plain": [
       "   KhetCode      KhetEng KhetThai KhwaengCode                  KhwaengEng  \\\n",
       "0        01  Phra Nakhon   พระนคร          01  Phra Borom Maha Ratchawang   \n",
       "1        01  Phra Nakhon   พระนคร          02         Wang Burapha Phirom   \n",
       "2        01  Phra Nakhon   พระนคร          03            Wat Ratchabophit   \n",
       "3        01  Phra Nakhon   พระนคร          04                  Samran Rat   \n",
       "4        01  Phra Nakhon   พระนคร          05            San Chaopho Suea   \n",
       "5        01  Phra Nakhon   พระนคร          06                Sao Chingcha   \n",
       "6        01  Phra Nakhon   พระนคร          07                 Bowon Niwet   \n",
       "7        01  Phra Nakhon   พระนคร          08                   Talat Yot   \n",
       "8        01  Phra Nakhon   พระนคร          09             Chana Songkhram   \n",
       "9        01  Phra Nakhon   พระนคร          10               Ban Phan Thom   \n",
       "10       01  Phra Nakhon   พระนคร          11             Bang Khun Phrom   \n",
       "11       01  Phra Nakhon   พระนคร          12              Wat Sam Phraya   \n",
       "12       02        Dusit    ดุสิต          01                       Dusit   \n",
       "13       02        Dusit    ดุสิต          02             Wachiraphayaban   \n",
       "14       02        Dusit    ดุสิต          03               Suan Chitlada   \n",
       "15       02        Dusit    ดุสิต          04            Si Yaek Maha Nak   \n",
       "16       02        Dusit    ดุสิต          06       Thanon Nakhon Chai Si   \n",
       "17       03    Nong Chok  หนองจอก          01                 Krathum Rai   \n",
       "18       03    Nong Chok  หนองจอก          02                   Nong Chok   \n",
       "19       03    Nong Chok  หนองจอก          03                  Khlong Sip   \n",
       "20       03    Nong Chok  หนองจอก          04             Khlong Sip Song   \n",
       "21       03    Nong Chok  หนองจอก          05                   Khok Faet   \n",
       "\n",
       "        KhwaengThai  \n",
       "0   พระบรมมหาราชวัง  \n",
       "1    วังบูรพาภิรมย์  \n",
       "2        วัดราชบพิธ  \n",
       "3       สำราญราษฎร์  \n",
       "4    ศาลเจ้าพ่อเสือ  \n",
       "5         เสาชิงช้า  \n",
       "6          บวรนิเวศ  \n",
       "7           ตลาดยอด  \n",
       "8         ชนะสงคราม  \n",
       "9         บ้านพานถม  \n",
       "10       บางขุนพรหม  \n",
       "11      วัดสามพระยา  \n",
       "12            ดุสิต  \n",
       "13       วชิรพยาบาล  \n",
       "14       สวนจิตรลดา  \n",
       "15     สี่แยกมหานาค  \n",
       "16     ถนนนครไชยศรี  \n",
       "17       กระทุ่มราย  \n",
       "18          หนองจอก  \n",
       "19          คลองสิบ  \n",
       "20       คลองสิบสอง  \n",
       "21           โคกแฝด  "
      ]
     },
     "execution_count": 23,
     "metadata": {},
     "output_type": "execute_result"
    }
   ],
   "source": [
    "khwaengs = pd.read_sql(sql, connection)\n",
    "khwaengs.head(22)"
   ]
  },
  {
   "cell_type": "code",
   "execution_count": 18,
   "metadata": {},
   "outputs": [
    {
     "data": {
      "text/plain": [
       "KhetCode       object\n",
       "KhetEng        object\n",
       "KhetThai       object\n",
       "KhwaengCode    object\n",
       "KhwaengEng     object\n",
       "KhwaengThai    object\n",
       "dtype: object"
      ]
     },
     "execution_count": 18,
     "metadata": {},
     "output_type": "execute_result"
    }
   ],
   "source": [
    "khwaengs.dtypes"
   ]
  },
  {
   "cell_type": "code",
   "execution_count": 19,
   "metadata": {},
   "outputs": [
    {
     "data": {
      "text/html": [
       "<div>\n",
       "<style scoped>\n",
       "    .dataframe tbody tr th:only-of-type {\n",
       "        vertical-align: middle;\n",
       "    }\n",
       "\n",
       "    .dataframe tbody tr th {\n",
       "        vertical-align: top;\n",
       "    }\n",
       "\n",
       "    .dataframe thead th {\n",
       "        text-align: right;\n",
       "    }\n",
       "</style>\n",
       "<table border=\"1\" class=\"dataframe\">\n",
       "  <thead>\n",
       "    <tr style=\"text-align: right;\">\n",
       "      <th></th>\n",
       "      <th>KhetCode</th>\n",
       "      <th>KhetEng</th>\n",
       "      <th>KhetThai</th>\n",
       "      <th>KhwaengCode</th>\n",
       "      <th>KhwaengEng</th>\n",
       "      <th>KhwaengThai</th>\n",
       "    </tr>\n",
       "  </thead>\n",
       "  <tbody>\n",
       "    <tr>\n",
       "      <th>count</th>\n",
       "      <td>180</td>\n",
       "      <td>180</td>\n",
       "      <td>180</td>\n",
       "      <td>180</td>\n",
       "      <td>180</td>\n",
       "      <td>180</td>\n",
       "    </tr>\n",
       "    <tr>\n",
       "      <th>unique</th>\n",
       "      <td>50</td>\n",
       "      <td>50</td>\n",
       "      <td>50</td>\n",
       "      <td>12</td>\n",
       "      <td>178</td>\n",
       "      <td>178</td>\n",
       "    </tr>\n",
       "    <tr>\n",
       "      <th>top</th>\n",
       "      <td>01</td>\n",
       "      <td>Phra Nakhon</td>\n",
       "      <td>พระนคร</td>\n",
       "      <td>02</td>\n",
       "      <td>Bang Chak</td>\n",
       "      <td>บางจาก</td>\n",
       "    </tr>\n",
       "    <tr>\n",
       "      <th>freq</th>\n",
       "      <td>12</td>\n",
       "      <td>12</td>\n",
       "      <td>12</td>\n",
       "      <td>43</td>\n",
       "      <td>2</td>\n",
       "      <td>2</td>\n",
       "    </tr>\n",
       "  </tbody>\n",
       "</table>\n",
       "</div>"
      ],
      "text/plain": [
       "       KhetCode      KhetEng KhetThai KhwaengCode KhwaengEng KhwaengThai\n",
       "count       180          180      180         180        180         180\n",
       "unique       50           50       50          12        178         178\n",
       "top          01  Phra Nakhon   พระนคร          02  Bang Chak      บางจาก\n",
       "freq         12           12       12          43          2           2"
      ]
     },
     "execution_count": 19,
     "metadata": {},
     "output_type": "execute_result"
    }
   ],
   "source": [
    "khwaengs.describe()"
   ]
  },
  {
   "cell_type": "markdown",
   "metadata": {},
   "source": [
    "Applying the .describe() method to the dataframe instantly reveals an anomaly: the total count of neghbourhoods is 180 but there are only 178 unique entries. One of the most frequently occuring neighbourhood names is Bang Chak, and the top frequency is 2. So they are likely 2 duplicates."
   ]
  },
  {
   "cell_type": "markdown",
   "metadata": {},
   "source": [
    "Checking the data for duplicate khwaeng names:"
   ]
  },
  {
   "cell_type": "code",
   "execution_count": 25,
   "metadata": {},
   "outputs": [
    {
     "data": {
      "text/html": [
       "<div>\n",
       "<style scoped>\n",
       "    .dataframe tbody tr th:only-of-type {\n",
       "        vertical-align: middle;\n",
       "    }\n",
       "\n",
       "    .dataframe tbody tr th {\n",
       "        vertical-align: top;\n",
       "    }\n",
       "\n",
       "    .dataframe thead th {\n",
       "        text-align: right;\n",
       "    }\n",
       "</style>\n",
       "<table border=\"1\" class=\"dataframe\">\n",
       "  <thead>\n",
       "    <tr style=\"text-align: right;\">\n",
       "      <th></th>\n",
       "      <th>KhetCode</th>\n",
       "      <th>KhetEng</th>\n",
       "      <th>KhetThai</th>\n",
       "      <th>KhwaengCode</th>\n",
       "      <th>KhwaengEng</th>\n",
       "      <th>KhwaengThai</th>\n",
       "    </tr>\n",
       "  </thead>\n",
       "  <tbody>\n",
       "    <tr>\n",
       "      <th>43</th>\n",
       "      <td>09</td>\n",
       "      <td>Phra Khanong</td>\n",
       "      <td>พระโขนง</td>\n",
       "      <td>05</td>\n",
       "      <td>Bang Chak</td>\n",
       "      <td>บางจาก</td>\n",
       "    </tr>\n",
       "    <tr>\n",
       "      <th>91</th>\n",
       "      <td>22</td>\n",
       "      <td>Phasi Charoen</td>\n",
       "      <td>ภาษีเจริญ</td>\n",
       "      <td>06</td>\n",
       "      <td>Bang Chak</td>\n",
       "      <td>บางจาก</td>\n",
       "    </tr>\n",
       "    <tr>\n",
       "      <th>133</th>\n",
       "      <td>35</td>\n",
       "      <td>Chom Thong</td>\n",
       "      <td>จอมทอง</td>\n",
       "      <td>03</td>\n",
       "      <td>Bang Mot</td>\n",
       "      <td>บางมด</td>\n",
       "    </tr>\n",
       "    <tr>\n",
       "      <th>174</th>\n",
       "      <td>49</td>\n",
       "      <td>Thung Khru</td>\n",
       "      <td>ทุ่งครุ</td>\n",
       "      <td>01</td>\n",
       "      <td>Bang Mot</td>\n",
       "      <td>บางมด</td>\n",
       "    </tr>\n",
       "  </tbody>\n",
       "</table>\n",
       "</div>"
      ],
      "text/plain": [
       "    KhetCode        KhetEng   KhetThai KhwaengCode KhwaengEng KhwaengThai\n",
       "43        09   Phra Khanong    พระโขนง          05  Bang Chak      บางจาก\n",
       "91        22  Phasi Charoen  ภาษีเจริญ          06  Bang Chak      บางจาก\n",
       "133       35     Chom Thong     จอมทอง          03   Bang Mot       บางมด\n",
       "174       49     Thung Khru    ทุ่งครุ          01   Bang Mot       บางมด"
      ]
     },
     "execution_count": 25,
     "metadata": {},
     "output_type": "execute_result"
    }
   ],
   "source": [
    "dup = khwaengs[khwaengs.duplicated(subset='KhwaengEng', keep=False)]\n",
    "dup"
   ]
  },
  {
   "cell_type": "markdown",
   "metadata": {},
   "source": [
    "And indeed there are 2 pairs of same-name khwaengs belonging to different districts"
   ]
  },
  {
   "cell_type": "markdown",
   "metadata": {},
   "source": [
    "Which is probably not an issue as they are relationally bound to respective khets (i.e. districts)."
   ]
  },
  {
   "cell_type": "code",
   "execution_count": null,
   "metadata": {},
   "outputs": [],
   "source": [
    "connection.close()"
   ]
  }
 ],
 "metadata": {
  "kernelspec": {
   "display_name": "Python 3 (ipykernel)",
   "language": "python",
   "name": "python3"
  },
  "language_info": {
   "codemirror_mode": {
    "name": "ipython",
    "version": 3
   },
   "file_extension": ".py",
   "mimetype": "text/x-python",
   "name": "python",
   "nbconvert_exporter": "python",
   "pygments_lexer": "ipython3",
   "version": "3.9.13"
  }
 },
 "nbformat": 4,
 "nbformat_minor": 4
}
